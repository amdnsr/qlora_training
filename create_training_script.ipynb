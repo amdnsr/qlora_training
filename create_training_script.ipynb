{
 "cells": [
  {
   "cell_type": "code",
   "execution_count": 1,
   "metadata": {},
   "outputs": [],
   "source": [
    "with open(\"all_dataset_names\") as f:\n",
    "    all_dataset_names = f.read().strip().split(\"\\n\")"
   ]
  },
  {
   "cell_type": "code",
   "execution_count": 13,
   "metadata": {},
   "outputs": [],
   "source": [
    "import os\n",
    "os.makedirs(\"training_scripts\", exist_ok=True)\n",
    "for dataset_name in all_dataset_names:\n",
    "# dataset_name = all_dataset_names[0]\n",
    "    dataset_name_command = f\"/home/kokil/anaconda3/envs/qlora_conda_3912_env/bin/python /home/kokil/ahmad/benchmarking_llms/projects/qlora_training/train_individual_model_for_individual_dataset.py --dataset_name={dataset_name} --dataset_home=/home/kokil/ahmad/benchmarking_llms/projects/qlora_training/create_dataset_jsons_aadish --model_name=llama --model_adapter_output_home=/home/kokil/ahmad/benchmarking_llms/projects/qlora_training/model_adapter_output_home\"\n",
    "\n",
    "    script_basename_in_curly_braces = \"{script_basename}\"\n",
    "    dataset_name_script_content = \\\n",
    "f\"\"\"\n",
    "#!/bin/bash\n",
    "\n",
    "# Specify the target directory\n",
    "\n",
    "original_directory=$(pwd)\n",
    "\n",
    "target_directory=\"/home/kokil/ahmad/benchmarking_llms/projects/qlora_training/\"\n",
    "\n",
    "# Change to the specified directory\n",
    "cd \"$target_directory\" || exit 1  # Exit the script if the directory doesn't exist\n",
    "\n",
    "# Get the base name of the shell script without the extension\n",
    "script_basename=$(basename \"${0}\" .sh)\n",
    "\n",
    "# Run the Python script in the background with nohup\n",
    "nohup {dataset_name_command} > \"$original_directory/${script_basename_in_curly_braces}.log\" 2>&1 &\n",
    "\n",
    "# Store the process ID (PID) in a separate file\n",
    "echo $! > \"$original_directory/${script_basename_in_curly_braces}.pid\"\n",
    "\"\"\"\n",
    "    with open(f\"training_scripts/{dataset_name}_training.sh\", \"w\") as f:\n",
    "        f.write(dataset_name_script_content)\n"
   ]
  },
  {
   "cell_type": "code",
   "execution_count": 14,
   "metadata": {},
   "outputs": [
    {
     "name": "stdout",
     "output_type": "stream",
     "text": [
      "\n",
      "#!/bin/bash\n",
      "\n",
      "# Specify the target directory\n",
      "\n",
      "original_directory=$(pwd)\n",
      "\n",
      "target_directory=\"/home/kokil/ahmad/benchmarking_llms/projects/qlora_training/\"\n",
      "\n",
      "# Change to the specified directory\n",
      "cd \"$target_directory\" || exit 1  # Exit the script if the directory doesn't exist\n",
      "\n",
      "# Get the base name of the shell script without the extension\n",
      "script_basename=$(basename \"$0\" .sh)\n",
      "\n",
      "# Run the Python script in the background with nohup\n",
      "nohup /home/kokil/anaconda3/envs/qlora_conda_3912_env/bin/python /home/kokil/ahmad/benchmarking_llms/projects/qlora_training/train_individual_model_for_individual_dataset.py --dataset_name=toraman --dataset_home=/home/kokil/ahmad/benchmarking_llms/projects/qlora_training/create_dataset_jsons_aadish --model_name=llama --model_adapter_output_home=/home/kokil/ahmad/benchmarking_llms/projects/qlora_training/model_adapter_output_home > \"$original_directory/${script_basename}.log\" 2>&1 &\n",
      "\n",
      "# Store the process ID (PID) in a separate file\n",
      "echo $! > \"$original_directory/${script_basename}.pid\"\n",
      "\n"
     ]
    }
   ],
   "source": [
    "print(dataset_name_script_content)"
   ]
  },
  {
   "cell_type": "code",
   "execution_count": 5,
   "metadata": {},
   "outputs": [
    {
     "data": {
      "text/plain": [
       "'/home/kokil/anaconda3/envs/qlora_conda_3912_env/bin/python /home/kokil/ahmad/benchmarking_llms/projects/qlora_training/train_individual_model_for_individual_dataset.py --dataset_name=toraman --dataset_home=/home/kokil/ahmad/benchmarking_llms/projects/qlora_training/create_dataset_jsons_aadish --model_name=llama --model_adapter_output_home=/home/kokil/ahmad/benchmarking_llms/projects/qlora_training/model_adapter_output_home'"
      ]
     },
     "execution_count": 5,
     "metadata": {},
     "output_type": "execute_result"
    }
   ],
   "source": [
    "dataset_name_command"
   ]
  },
  {
   "cell_type": "code",
   "execution_count": null,
   "metadata": {},
   "outputs": [],
   "source": []
  }
 ],
 "metadata": {
  "kernelspec": {
   "display_name": "qlora_conda_3912_env",
   "language": "python",
   "name": "python3"
  },
  "language_info": {
   "codemirror_mode": {
    "name": "ipython",
    "version": 3
   },
   "file_extension": ".py",
   "mimetype": "text/x-python",
   "name": "python",
   "nbconvert_exporter": "python",
   "pygments_lexer": "ipython3",
   "version": "3.9.18"
  }
 },
 "nbformat": 4,
 "nbformat_minor": 2
}
